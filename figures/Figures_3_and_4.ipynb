{
 "cells": [
  {
   "cell_type": "code",
   "execution_count": 1,
   "metadata": {},
   "outputs": [],
   "source": [
    "import pandas as pd\n",
    "from matplotlib import rcParams\n",
    "import matplotlib.pyplot as plt\n",
    "import numpy as np"
   ]
  },
  {
   "cell_type": "code",
   "execution_count": 2,
   "metadata": {},
   "outputs": [],
   "source": [
    "rcParams['font.family'] = 'sans-serif'\n",
    "rcParams['font.sans-serif'] = ['Arial']\n",
    "rcParams['font.size'] = 18\n",
    "rcParams['axes.linewidth'] = 2\n",
    "rcParams['grid.linewidth'] = 2\n",
    "rcParams['grid.color'] = 'gainsboro'\n",
    "rcParams['font.weight'] = 'normal'\n",
    "rcParams['axes.labelweight'] = 'bold'\n",
    "rcParams['axes.labelsize'] = 21\n",
    "rcParams['legend.edgecolor'] = 'none'"
   ]
  },
  {
   "cell_type": "code",
   "execution_count": 3,
   "metadata": {},
   "outputs": [],
   "source": [
    "holdout_path = '../test_results/holdout_validation/'\n",
    "external_path = '../test_results/external_validation/'"
   ]
  },
  {
   "cell_type": "markdown",
   "metadata": {},
   "source": [
    "# Holdout validation"
   ]
  },
  {
   "cell_type": "code",
   "execution_count": 4,
   "metadata": {},
   "outputs": [],
   "source": [
    "from scipy.stats import mannwhitneyu\n",
    "from scipy.stats import spearmanr, pearsonr\n",
    "import seaborn as sns\n",
    "import pickle\n",
    "import statsmodels.api as sm\n",
    "from sklearn.metrics import roc_auc_score\n",
    "import numpy as np"
   ]
  },
  {
   "cell_type": "code",
   "execution_count": 5,
   "metadata": {},
   "outputs": [],
   "source": [
    "treat_colors = ['lightgrey', 'grey', 'dimgrey']\n",
    "ca125_colors = ['peachpuff','sandybrown','chocolate']\n",
    "rad_colors = ['thistle','mediumpurple','purple']\n",
    "ctdna_colors = ['honeydew','mediumseagreen','seagreen']"
   ]
  },
  {
   "cell_type": "code",
   "execution_count": 10,
   "metadata": {},
   "outputs": [
    {
     "name": "stdout",
     "output_type": "stream",
     "text": [
      "cum_treatment $r_S$=0.49, $p$=0.03 & $r_P$=0.30, $p$=0.20\n",
      "cum_ca125 $r_S$=0.37, $p$=0.11 & $r_P$=0.32, $p$=0.17\n",
      "cum_ratio_radiomics $r_S$=0.50, $p$=0.02 & $r_P$=0.50, $p$=0.02\n",
      "cum_ctdna $r_S$=0.50, $p$=0.02 & $r_P$=0.49, $p$=0.03\n",
      "[0.         0.01467344 0.15399528 0.13965599]\n"
     ]
    },
    {
     "data": {
      "image/png": "[encoded data removed]",
      "text/plain": [
       "<Figure size 648x144 with 1 Axes>"
      ]
     },
     "metadata": {
      "needs_background": "light"
     },
     "output_type": "display_data"
    },
    {
     "data": {
      "image/png": "[encoded data removed]",
      "text/plain": [
       "<Figure size 648x144 with 1 Axes>"
      ]
     },
     "metadata": {
      "needs_background": "light"
     },
     "output_type": "display_data"
    }
   ],
   "source": [
    "from sklearn.metrics import mean_squared_error, r2_score\n",
    "\n",
    "test_models = ['cum_treatment', 'cum_ca125', 'cum_ratio_radiomics', 'cum_ctdna']\n",
    "test_names = ['+Tx', '+CA125', '+Rad', '+ctDNA']\n",
    "colors = [treat_colors[1], ca125_colors[1], rad_colors[1], ctdna_colors[1]]\n",
    "colors2 = [treat_colors[2], ca125_colors[2], rad_colors[2], ctdna_colors[2]]\n",
    "\n",
    "holdout_mses = []\n",
    "holdout_spearman = []\n",
    "holdout_pearson = []\n",
    "\n",
    "outfile = open('source-data/figure_3b1.txt', 'w')\n",
    "for test_model in test_models:\n",
    "    preds = []\n",
    "    results_name = holdout_path+test_model+ '_relative_change_basic'\n",
    "    for rsi in range(1,6):\n",
    "        pred = pickle.load(open('{}_rs{}_testresults.pkl'.format(results_name,rsi), 'rb'))\n",
    "        order = np.argsort(pred['avg'][0].values)\n",
    "        preds.append(pred['avg'][1][order])\n",
    "        reals = pred['avg'][0].values[order]\n",
    "    avg_preds = np.mean(preds, 0)\n",
    "\n",
    "    mse = mean_squared_error(reals, avg_preds)\n",
    "    holdout_mses.append(mse)\n",
    "    \n",
    "    rs,rs_p = spearmanr(reals, avg_preds)\n",
    "    holdout_spearman.append(rs)\n",
    "    \n",
    "    rp,rp_p = pearsonr(reals, avg_preds)\n",
    "    holdout_pearson.append(rp)\n",
    "    \n",
    "    print(test_model, '$r_S$={:.2f}, $p$={:.2f} & $r_P$={:.2f}, $p$={:.2f}'.format(rs,rs_p, rp, rp_p))\n",
    "    outfile.write('{}, MSE={:.2f}, r_S={:.2f} p={:.2f}, r_P={:.2f} p={:.2f}\\n'.format(test_model,mse,rs,rs_p, rp, rp_p))\n",
    "outfile.close()\n",
    "\n",
    "\n",
    "### MSEs\n",
    "plt.figure(figsize=(9,2))\n",
    "plt.plot(holdout_mses, '-', linewidth=3, color='k', alpha=0.2)\n",
    "plt.scatter(x=range(4), y=holdout_mses, c=colors, s=60)\n",
    "plt.xticks(range(len(test_names)), test_names, rotation=0)\n",
    "plt.gca().xaxis.set_visible(False)\n",
    "plt.gca().spines['bottom'].set_visible(False)\n",
    "plt.gca().spines['top'].set_visible(False)\n",
    "plt.gca().spines['right'].set_visible(False)\n",
    "print(1-holdout_mses/holdout_mses[0])\n",
    "\n",
    "plt.xlim([-0.5,3.5])\n",
    "plt.ylabel('MSE')\n",
    "plt.show()\n",
    "\n",
    "## Correlation coeffs\n",
    "plt.figure(figsize=(9,2))\n",
    "# Spearman\n",
    "plt.plot(holdout_spearman, '-', linewidth=3, color='k', alpha=0.2)\n",
    "plt.scatter(x=range(4), y=holdout_spearman, c=colors, s=60)\n",
    "# Pearson\n",
    "plt.plot(holdout_pearson, '--', linewidth=3, color='k', alpha=0.2)\n",
    "plt.scatter(x=range(4), y=holdout_pearson, c=colors2, s=60, marker='s')\n",
    "# Other stuff\n",
    "plt.xticks(range(len(test_names)), test_names, rotation=0)\n",
    "plt.gca().xaxis.set_visible(False)\n",
    "plt.gca().spines['bottom'].set_visible(False)\n",
    "plt.gca().spines['top'].set_visible(False)\n",
    "plt.gca().spines['right'].set_visible(False)\n",
    "plt.xlim([-0.5,3.5])\n",
    "plt.ylabel('Correlation')\n",
    "plt.show()"
   ]
  },
  {
   "cell_type": "markdown",
   "metadata": {},
   "source": [
    "# External (Barts) validation"
   ]
  },
  {
   "cell_type": "code",
   "execution_count": 11,
   "metadata": {},
   "outputs": [
    {
     "name": "stdout",
     "output_type": "stream",
     "text": [
      "cum_treatment $r_S$=-0.00, $p$=0.98 & $r_P$=0.03, $p$=0.85\n",
      "cum_ca125 $r_S$=0.04, $p$=0.80 & $r_P$=0.03, $p$=0.84\n",
      "cum_ratio_radiomics $r_S$=0.32, $p$=0.04 & $r_P$=0.29, $p$=0.07\n",
      "cum_ctdna $r_S$=0.36, $p$=0.02 & $r_P$=0.32, $p$=0.04\n",
      "[ 0.         -0.00714843  0.08613962  0.10811527]\n"
     ]
    },
    {
     "data": {
      "image/png": "[encoded data removed]",
      "text/plain": [
       "<Figure size 648x144 with 1 Axes>"
      ]
     },
     "metadata": {
      "needs_background": "light"
     },
     "output_type": "display_data"
    },
    {
     "data": {
      "image/png": "[encoded data removed]",
      "text/plain": [
       "<Figure size 648x144 with 1 Axes>"
      ]
     },
     "metadata": {
      "needs_background": "light"
     },
     "output_type": "display_data"
    }
   ],
   "source": [
    "from sklearn.metrics import mean_squared_error, r2_score\n",
    "\n",
    "test_models = ['cum_treatment', 'cum_ca125', 'cum_ratio_radiomics', 'cum_ctdna']\n",
    "test_names = ['+Tx', '+CA125', '+Rad', '+ctDNA']\n",
    "colors = [treat_colors[1], ca125_colors[1], rad_colors[1], ctdna_colors[1]]\n",
    "colors2 = [treat_colors[2], ca125_colors[2], rad_colors[2], ctdna_colors[2]]\n",
    "\n",
    "barts_mses = []\n",
    "barts_spearman = []\n",
    "barts_pearson = []\n",
    "\n",
    "outfile = open('source-data/figure_3b2.txt', 'w')\n",
    "for test_model in test_models:\n",
    "    preds = []\n",
    "    results_name = external_path+test_model+ '_relative_change_basic'\n",
    "    for rsi in range(1,6):\n",
    "        pred = pickle.load(open('{}_rs{}_testresults.pkl'.format(results_name,rsi), 'rb'))\n",
    "        order = np.argsort(pred['avg'][0].values)\n",
    "        preds.append(pred['avg'][1][order])\n",
    "        reals = pred['avg'][0].values[order]\n",
    "    avg_preds = np.mean(preds, 0)\n",
    "\n",
    "    mse = mean_squared_error(reals, avg_preds)\n",
    "    barts_mses.append(mse)\n",
    "    \n",
    "    rs,rs_p = spearmanr(reals, avg_preds)\n",
    "    barts_spearman.append(rs)\n",
    "    \n",
    "    rp,rp_p = pearsonr(reals, avg_preds)\n",
    "    barts_pearson.append(rp)\n",
    "    \n",
    "    print(test_model, '$r_S$={:.2f}, $p$={:.2f} & $r_P$={:.2f}, $p$={:.2f}'.format(rs,rs_p, rp, rp_p))\n",
    "    outfile.write('{}, MSE={:.2f}, r_S={:.2f} p={:.2f}, r_P={:.2f} p={:.2f}\\n'.format(test_model,mse,rs,rs_p, rp, rp_p))\n",
    "outfile.close()\n",
    "\n",
    "### MSEs\n",
    "print(1-barts_mses/barts_mses[0])\n",
    "plt.figure(figsize=(9,2))\n",
    "plt.plot(barts_mses, '-', linewidth=3, color='k', alpha=0.2)\n",
    "plt.scatter(x=range(4), y=barts_mses, c=colors, s=60)\n",
    "plt.xticks(range(len(test_names)), test_names, rotation=0)\n",
    "plt.gca().xaxis.set_visible(False)\n",
    "plt.gca().spines['bottom'].set_visible(False)\n",
    "plt.gca().spines['top'].set_visible(False)\n",
    "plt.gca().spines['right'].set_visible(False)\n",
    "plt.xlim([-0.5,3.5])\n",
    "plt.ylabel('MSE')\n",
    "plt.show()\n",
    "\n",
    "## Correlation coeffs\n",
    "plt.figure(figsize=(9,2))\n",
    "# Spearman\n",
    "plt.plot(barts_spearman, '-', linewidth=3, color='k', alpha=0.2, label='Spearman')\n",
    "plt.scatter(x=range(4), y=barts_spearman, c=colors, s=60)\n",
    "# Pearson\n",
    "plt.plot(barts_pearson, '--', linewidth=3, color='k', alpha=0.2, label='Pearson')\n",
    "plt.scatter(x=range(4), y=barts_pearson, c=colors2, s=60, marker='s')\n",
    "# Other stuff\n",
    "plt.xticks(range(len(test_names)), test_names, rotation=0)\n",
    "plt.gca().xaxis.set_visible(False)\n",
    "plt.gca().spines['bottom'].set_visible(False)\n",
    "plt.gca().spines['top'].set_visible(False)\n",
    "plt.gca().spines['right'].set_visible(False)\n",
    "plt.xlim([-0.5,3.5])\n",
    "plt.ylabel('Correlation')\n",
    "plt.show()"
   ]
  },
  {
   "cell_type": "markdown",
   "metadata": {},
   "source": [
    "# Correlation of predictions with RECIST"
   ]
  },
  {
   "cell_type": "markdown",
   "metadata": {},
   "source": [
    "### Holdout dataset"
   ]
  },
  {
   "cell_type": "code",
   "execution_count": 12,
   "metadata": {},
   "outputs": [],
   "source": [
    "df_holdout = pd.read_csv('../prediction/inputs/testing_df.csv')\n",
    "df_recist_holdout = pd.read_csv('../data/neov-recist.csv')"
   ]
  },
  {
   "cell_type": "code",
   "execution_count": 13,
   "metadata": {},
   "outputs": [],
   "source": [
    "# Get RECIST data\n",
    "df_holdout_merged = pd.merge(left=df_recist_holdout, right=df_holdout[['id','relative_change']], left_on='ID', right_on='id', how='inner')\n",
    "recist_status = df_holdout_merged['response_volume']\n",
    "recist_id = df_holdout_merged['ID']\n",
    "\n",
    "perc_vol_change = np.log(df_holdout['relative_change'])"
   ]
  },
  {
   "cell_type": "code",
   "execution_count": 16,
   "metadata": {},
   "outputs": [
    {
     "name": "stdout",
     "output_type": "stream",
     "text": [
      "cum_treatment\n"
     ]
    },
    {
     "data": {
      "image/png": "[encoded data removed]",
      "text/plain": [
       "<Figure size 216x288 with 1 Axes>"
      ]
     },
     "metadata": {
      "needs_background": "light"
     },
     "output_type": "display_data"
    },
    {
     "name": "stdout",
     "output_type": "stream",
     "text": [
      "cum_ca125\n"
     ]
    },
    {
     "data": {
      "image/png": "[encoded data removed]",
      "text/plain": [
       "<Figure size 216x288 with 1 Axes>"
      ]
     },
     "metadata": {
      "needs_background": "light"
     },
     "output_type": "display_data"
    },
    {
     "name": "stdout",
     "output_type": "stream",
     "text": [
      "cum_ratio_radiomics\n"
     ]
    },
    {
     "data": {
      "image/png": "[encoded data removed]",
      "text/plain": [
       "<Figure size 216x288 with 1 Axes>"
      ]
     },
     "metadata": {
      "needs_background": "light"
     },
     "output_type": "display_data"
    },
    {
     "name": "stdout",
     "output_type": "stream",
     "text": [
      "cum_ctdna\n"
     ]
    },
    {
     "data": {
      "image/png": "[encoded data removed]",
      "text/plain": [
       "<Figure size 216x288 with 1 Axes>"
      ]
     },
     "metadata": {
      "needs_background": "light"
     },
     "output_type": "display_data"
    }
   ],
   "source": [
    "#Holdout\n",
    "from scipy.stats import mannwhitneyu, pointbiserialr\n",
    "colors = [treat_colors[1], ca125_colors[1], rad_colors[1], ctdna_colors[1]]\n",
    "\n",
    "open('source-data/figure_4a.txt','w').close()\n",
    "\n",
    "coefs = []\n",
    "for ix,test_model in enumerate(test_models):\n",
    "    print(test_model)\n",
    "    preds = []\n",
    "    for rsi in range(1,6):\n",
    "        results_name = holdout_path+test_model+'_relative_change_basic'\n",
    "        pred = pickle.load(open('{}_rs{}_testresults.pkl'.format(results_name,rsi), 'rb'))\n",
    "        order = np.argsort(pred['avg'][0].values)\n",
    "        preds.append(pred['avg'][1][order])\n",
    "        reals = pred['avg'][0].values[order]\n",
    "    avg_preds = np.mean(preds, 0)\n",
    "    \n",
    "    # Stats\n",
    "    plot_df = pd.DataFrame({'RECIST':recist_status[order], 'pred_change':avg_preds, 'ID':recist_id[order]})\n",
    "\n",
    "    m1 = mannwhitneyu(plot_df['pred_change'].values[plot_df['RECIST']=='response'], plot_df['pred_change'].values[plot_df['RECIST']=='stable'])\n",
    "    m3 = mannwhitneyu(plot_df['pred_change'].values[plot_df['RECIST']=='stable'], plot_df['pred_change'].values[plot_df['RECIST']=='progression'])\n",
    "    \n",
    "    plot_df['RECIST_num'] = plot_df['RECIST'].copy()\n",
    "    plot_df['RECIST_num'].replace('response',1,inplace=True)\n",
    "    plot_df['RECIST_num'].replace('stable',2,inplace=True)\n",
    "    plot_df['RECIST_num'].replace('progression',3,inplace=True)  \n",
    "    pb = pointbiserialr(plot_df['RECIST_num'].values, plot_df['pred_change'].values)\n",
    "    \n",
    "    plt.figure(figsize=(3,4))\n",
    "    sns.boxplot(data=plot_df, x='RECIST', y='pred_change', color=colors[ix])\n",
    "    plt.text(0.6, 0.15, '$p$={:.2f}'.format(pb.pvalue), transform = plt.gca().transAxes, size=18)    \n",
    "    plt.ylabel('')\n",
    "    plt.xlabel('')\n",
    "    plt.xticks(rotation=65)\n",
    "    plt.show()\n",
    "    \n",
    "    plot_df[['RECIST','pred_change']].to_csv('source-data/figure_4a.txt', mode='a')"
   ]
  },
  {
   "cell_type": "markdown",
   "metadata": {},
   "source": [
    "### Barts dataset"
   ]
  },
  {
   "cell_type": "code",
   "execution_count": 19,
   "metadata": {},
   "outputs": [],
   "source": [
    "df_barts = pd.read_csv('../prediction/inputs/barts_df.csv')\n",
    "df_recist_barts = pd.read_csv('../data/barts-recist.csv')"
   ]
  },
  {
   "cell_type": "code",
   "execution_count": 20,
   "metadata": {},
   "outputs": [],
   "source": [
    "# Original: 1=progressive disease, 2=stable disease, 3=partial response, 4=complete response\n",
    "# Reversing so it goes from better to worse\n",
    "# First give names\n",
    "df_recist_barts['RECIST_call'].replace(2,'stable',inplace=True)\n",
    "df_recist_barts['RECIST_call'].replace(3,'response',inplace=True)"
   ]
  },
  {
   "cell_type": "code",
   "execution_count": 21,
   "metadata": {},
   "outputs": [],
   "source": [
    "recist_var_name = 'RECIST_call'\n",
    "recist_annot = df_recist_barts[['ID','SLD_1','SLD_2',recist_var_name]].copy()\n",
    "recist_annot['response_volume'] = df_recist_barts.loc[:,recist_var_name].values\n",
    "\n",
    "df_barts_merged = pd.merge(left=recist_annot, right=df_barts, left_on='ID', right_on='id', how='inner')\n",
    "recist_status = df_barts_merged['response_volume']\n",
    "recist_id = df_barts_merged['ID']\n",
    "\n",
    "perc_vol_change = np.log(df_barts_merged['relative_change'])"
   ]
  },
  {
   "cell_type": "code",
   "execution_count": 23,
   "metadata": {},
   "outputs": [
    {
     "data": {
      "image/png": "[encoded data removed]",
      "text/plain": [
       "<Figure size 144x288 with 1 Axes>"
      ]
     },
     "metadata": {
      "needs_background": "light"
     },
     "output_type": "display_data"
    },
    {
     "data": {
      "image/png": "[encoded data removed]",
      "text/plain": [
       "<Figure size 144x288 with 1 Axes>"
      ]
     },
     "metadata": {
      "needs_background": "light"
     },
     "output_type": "display_data"
    },
    {
     "data": {
      "image/png": "[encoded data removed]",
      "text/plain": [
       "<Figure size 144x288 with 1 Axes>"
      ]
     },
     "metadata": {
      "needs_background": "light"
     },
     "output_type": "display_data"
    },
    {
     "data": {
      "image/png": "[encoded data removed]",
      "text/plain": [
       "<Figure size 144x288 with 1 Axes>"
      ]
     },
     "metadata": {
      "needs_background": "light"
     },
     "output_type": "display_data"
    }
   ],
   "source": [
    "#Barts\n",
    "colors = [treat_colors[1], ca125_colors[1], rad_colors[1], ctdna_colors[1]]\n",
    "open('source-data/figure_4b.txt','w').close()\n",
    "\n",
    "coefs = []\n",
    "xs = []\n",
    "for ix,test_model in enumerate(test_models):\n",
    "\n",
    "    preds = []\n",
    "    for rsi in range(1,6):\n",
    "        results_name = external_path+test_model+'_relative_change_basic'\n",
    "        pred = pickle.load(open('{}_rs{}_testresults.pkl'.format(results_name,rsi), 'rb'))\n",
    "        order = np.argsort(pred['avg'][0].values)\n",
    "        preds.append(pred['avg'][1][order])\n",
    "        reals = pred['avg'][0].values[order]\n",
    "    avg_preds = np.mean(preds, 0)\n",
    "\n",
    "    # Stats\n",
    "    plot_df = pd.DataFrame({'RECIST':recist_status[order], 'pred_change':avg_preds, 'ID':recist_id[order]})\n",
    "    m1 = mannwhitneyu(plot_df['pred_change'].values[plot_df['RECIST']=='response'], plot_df['pred_change'].values[plot_df['RECIST']=='stable'])\n",
    "\n",
    "    plot_df['RECIST_num'] = plot_df['RECIST'].copy()\n",
    "    plot_df['RECIST_num'].replace('response',1,inplace=True)\n",
    "    plot_df['RECIST_num'].replace('stable',2,inplace=True)\n",
    "    plot_df['RECIST_num'].replace('progression',3,inplace=True)  \n",
    "    pb = pointbiserialr(plot_df['RECIST_num'].values, plot_df['pred_change'].values)\n",
    "\n",
    "    plt.figure(figsize=(2,4))\n",
    "    sns.boxplot(data=plot_df, x='RECIST', y='pred_change', color=colors[ix])\n",
    "    plt.ylabel('')\n",
    "    plt.xlabel('')\n",
    "    plt.xticks(rotation=65)\n",
    "    if pb.pvalue<0.01:\n",
    "        plt.text(0.35, 0.15, '$p$={:.3f}'.format(pb.pvalue), transform = plt.gca().transAxes, size=18)    \n",
    "    else:\n",
    "        plt.text(0.4, 0.15, '$p$={:.2f}'.format(pb.pvalue), transform = plt.gca().transAxes, size=18)    \n",
    "    plt.show()\n",
    "\n",
    "\n",
    "    plot_df[['RECIST','pred_change']].to_csv('source-data/figure_4b.txt', mode='a')"
   ]
  },
  {
   "cell_type": "code",
   "execution_count": null,
   "metadata": {},
   "outputs": [],
   "source": []
  }
 ],
 "metadata": {
  "kernelspec": {
   "display_name": "Python 3 (ipykernel)",
   "language": "python",
   "name": "python3"
  },
  "language_info": {
   "codemirror_mode": {
    "name": "ipython",
    "version": 3
   },
   "file_extension": ".py",
   "mimetype": "text/x-python",
   "name": "python",
   "nbconvert_exporter": "python",
   "pygments_lexer": "ipython3",
   "version": "3.9.13"
  }
 },
 "nbformat": 4,
 "nbformat_minor": 2
}
